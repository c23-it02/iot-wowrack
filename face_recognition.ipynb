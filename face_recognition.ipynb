{
  "cells": [
    {
      "cell_type": "code",
      "execution_count": null,
      "id": "d03abe75-992c-4f98-83c0-5b5e207a135e",
      "metadata": {
        "id": "d03abe75-992c-4f98-83c0-5b5e207a135e"
      },
      "outputs": [],
      "source": [
        "import tensorflow as tf\n",
        "import numpy as np\n",
        "from tensorflow.keras.models import load_model\n",
        "import os\n",
        "import cv2\n",
        "import matplotlib.pyplot as plt \n",
        "from sklearn.utils import shuffle\n",
        "from tensorflow.keras.layers import Conv2D, MaxPooling2D, Dense, Flatten, Input, Layer, Dropout\n",
        "from tensorflow.keras.models import Model"
      ]
    },
    {
      "cell_type": "code",
      "source": [
        "tf.test.gpu_device_name()"
      ],
      "metadata": {
        "colab": {
          "base_uri": "https://localhost:8080/",
          "height": 36
        },
        "id": "n8GaYpHEyVP2",
        "outputId": "95d83a03-29c5-430e-a5f7-cf7408c12b4f"
      },
      "id": "n8GaYpHEyVP2",
      "execution_count": null,
      "outputs": [
        {
          "output_type": "execute_result",
          "data": {
            "text/plain": [
              "'/device:GPU:0'"
            ],
            "application/vnd.google.colaboratory.intrinsic+json": {
              "type": "string"
            }
          },
          "metadata": {},
          "execution_count": 2
        }
      ]
    },
    {
      "cell_type": "code",
      "source": [
        "import zipfile\n",
        "\n",
        "file = zipfile.ZipFile('person.zip')\n",
        "\n",
        "file.extractall()\n",
        "\n",
        "file.close()"
      ],
      "metadata": {
        "id": "nrZYwx4v1HLk"
      },
      "id": "nrZYwx4v1HLk",
      "execution_count": null,
      "outputs": []
    },
    {
      "cell_type": "code",
      "execution_count": null,
      "id": "eb0856cd-6518-452f-84b4-62358e9e49d0",
      "metadata": {
        "tags": [],
        "id": "eb0856cd-6518-452f-84b4-62358e9e49d0"
      },
      "outputs": [],
      "source": [
        "def buat_dataset_siamese(path_images, labels, image_path):   \n",
        "    #membuat list label yang tunggal\n",
        "    unique_labels = np.unique(labels)\n",
        "\n",
        "    #mencari index dari gambar dari suatu label\n",
        "    tempat_gambar = {}\n",
        "    for label in unique_labels:\n",
        "        tempat_gambar[label] = [i for i, curr_label in enumerate(labels) if curr_label == label]\n",
        "\n",
        "    #memasangkan images positif dan negatif    \n",
        "    pair_images = []\n",
        "    pair_labels = []\n",
        "    for i, image in enumerate(image_path):\n",
        "        image = cv2.imread(os.path.join(path_images, image), cv2.IMREAD_GRAYSCALE)\n",
        "        image = cv2.resize(image, (200,200), interpolation=cv2.INTER_AREA)\n",
        "        image = image/255.\n",
        "        neg_index = [j for j, label in enumerate(labels) if label != labels[i]]\n",
        "        post_index = tempat_gambar.get(labels[i])\n",
        "    \n",
        "        post_image = image_path[np.random.choice(post_index)]\n",
        "        post_image = cv2.imread(os.path.join(path_images, post_image), cv2.IMREAD_GRAYSCALE)\n",
        "        post_image = cv2.resize(post_image, (200,200), interpolation=cv2.INTER_AREA)\n",
        "        post_image = post_image/255.\n",
        "        pair_images.append((image, post_image))\n",
        "        pair_labels.append(1)\n",
        "    \n",
        "        neg_image = image_path[np.random.choice(neg_index)]\n",
        "        neg_image = cv2.imread(os.path.join(path_images, neg_image), cv2.IMREAD_GRAYSCALE)\n",
        "        neg_image = cv2.resize(neg_image, (200,200), interpolation=cv2.INTER_AREA)\n",
        "        neg_image = neg_image/255.\n",
        "        pair_images.append((image, neg_image))\n",
        "        pair_labels.append(0)\n",
        "    images_dataset = np.array(pair_images, dtype='float64')\n",
        "    labels_dataset = np.array(pair_labels, dtype='float64')\n",
        "\n",
        "    images_dataset = np.expand_dims(images_dataset, axis=-1)\n",
        "\n",
        "    images_dataset, labels_dataset = shuffle(images_dataset, labels_dataset)\n",
        "    return images_dataset, labels_dataset"
      ]
    },
    {
      "cell_type": "code",
      "execution_count": null,
      "id": "ab1c5eca-c5f7-400d-ab3e-0760f016c8c8",
      "metadata": {
        "id": "ab1c5eca-c5f7-400d-ab3e-0760f016c8c8"
      },
      "outputs": [],
      "source": [
        "path_images = os.path.join(os.getcwd(), 'person')\n",
        "labels = [label.split('_')[0] for label in os.listdir(path_images) if label != \"ipynb_checkpoints\"]\n",
        "image_path = os.listdir(path_images)\n",
        "image_path.remove('.ipynb_checkpoints')\n",
        "labels.remove('.ipynb')"
      ]
    },
    {
      "cell_type": "code",
      "execution_count": null,
      "id": "8387881a-3080-467f-b1b1-26833c8c955e",
      "metadata": {
        "tags": [],
        "id": "8387881a-3080-467f-b1b1-26833c8c955e"
      },
      "outputs": [],
      "source": [
        "images_dataset, labels_dataset = buat_dataset_siamese(path_images, labels, image_path) "
      ]
    },
    {
      "cell_type": "code",
      "execution_count": null,
      "id": "c53e80a6-1f69-4628-93f9-38bab2972d00",
      "metadata": {
        "tags": [],
        "id": "c53e80a6-1f69-4628-93f9-38bab2972d00"
      },
      "outputs": [],
      "source": [
        "def buat_model_embedding():\n",
        "    input = Input(shape=(200,200,1))\n",
        "    \n",
        "    #convolutional layers\n",
        "    c = Conv2D(64, (10,10), activation='relu')(input)\n",
        "    m = MaxPooling2D(64, (2,2), padding='same')(c)\n",
        "    c = Conv2D(128, (7,7), activation='relu')(m)\n",
        "    m = MaxPooling2D(128, (2,2), padding='same')(c)\n",
        "    c = Conv2D(128, (7,7), activation='relu')(m)\n",
        "    m = MaxPooling2D(128, (2,2), padding='same')(c)\n",
        "    c = Conv2D(256, (4,4), activation='relu')(m)\n",
        "    m = MaxPooling2D(256, (2,2), padding='same')(c)\n",
        "    c = Conv2D(256, (4,4), activation='relu')(m)\n",
        "    m = MaxPooling2D(256, (2,2), padding='same')(c)\n",
        "    \n",
        "    #Dense layers\n",
        "    f = Flatten()(m)\n",
        "    d = Dense(512, activation='relu')(f)\n",
        "    d = Dense(1028, activation='relu')(d)\n",
        "    d = Dense(128, activation='sigmoid')(d)\n",
        "    \n",
        "    return Model(inputs=[input], outputs=[d])\n",
        "\n",
        "class distance(Layer):\n",
        "    def __init__(self, **kwargs):\n",
        "        super().__init__()\n",
        "    def call(self, anchor, validation):\n",
        "        return tf.math.abs(anchor - validation)"
      ]
    },
    {
      "cell_type": "code",
      "source": [
        "model = buat_model_embedding()\n",
        "model.summary()"
      ],
      "metadata": {
        "colab": {
          "base_uri": "https://localhost:8080/"
        },
        "id": "Ew6GuLM8qdxh",
        "outputId": "db905efa-4a42-403b-b315-fc48943fd957"
      },
      "id": "Ew6GuLM8qdxh",
      "execution_count": null,
      "outputs": [
        {
          "output_type": "stream",
          "name": "stdout",
          "text": [
            "Model: \"model\"\n",
            "_________________________________________________________________\n",
            " Layer (type)                Output Shape              Param #   \n",
            "=================================================================\n",
            " input_1 (InputLayer)        [(None, 200, 200, 1)]     0         \n",
            "                                                                 \n",
            " conv2d (Conv2D)             (None, 191, 191, 64)      6464      \n",
            "                                                                 \n",
            " max_pooling2d (MaxPooling2D  (None, 96, 96, 64)       0         \n",
            " )                                                               \n",
            "                                                                 \n",
            " conv2d_1 (Conv2D)           (None, 90, 90, 128)       401536    \n",
            "                                                                 \n",
            " max_pooling2d_1 (MaxPooling  (None, 45, 45, 128)      0         \n",
            " 2D)                                                             \n",
            "                                                                 \n",
            " conv2d_2 (Conv2D)           (None, 39, 39, 128)       802944    \n",
            "                                                                 \n",
            " max_pooling2d_2 (MaxPooling  (None, 20, 20, 128)      0         \n",
            " 2D)                                                             \n",
            "                                                                 \n",
            " conv2d_3 (Conv2D)           (None, 17, 17, 256)       524544    \n",
            "                                                                 \n",
            " max_pooling2d_3 (MaxPooling  (None, 9, 9, 256)        0         \n",
            " 2D)                                                             \n",
            "                                                                 \n",
            " conv2d_4 (Conv2D)           (None, 6, 6, 256)         1048832   \n",
            "                                                                 \n",
            " max_pooling2d_4 (MaxPooling  (None, 3, 3, 256)        0         \n",
            " 2D)                                                             \n",
            "                                                                 \n",
            " flatten (Flatten)           (None, 2304)              0         \n",
            "                                                                 \n",
            " dense (Dense)               (None, 512)               1180160   \n",
            "                                                                 \n",
            " dense_1 (Dense)             (None, 1028)              527364    \n",
            "                                                                 \n",
            " dense_2 (Dense)             (None, 128)               131712    \n",
            "                                                                 \n",
            "=================================================================\n",
            "Total params: 4,623,556\n",
            "Trainable params: 4,623,556\n",
            "Non-trainable params: 0\n",
            "_________________________________________________________________\n"
          ]
        }
      ]
    },
    {
      "cell_type": "code",
      "execution_count": null,
      "id": "c1d15d58-0467-48aa-ad8a-50ce08f859d4",
      "metadata": {
        "tags": [],
        "id": "c1d15d58-0467-48aa-ad8a-50ce08f859d4"
      },
      "outputs": [],
      "source": [
        "def jadi_siamese():\n",
        "    embedding = buat_model_embedding()\n",
        "    jarak = distance()\n",
        "    \n",
        "    anchor_images = Input(shape=(200,200,1))\n",
        "    validation_images = Input(shape=(200,200,1))\n",
        "    \n",
        "    anchor_embedding = embedding(anchor_images)\n",
        "    validation_embedding = embedding(validation_images)\n",
        "    \n",
        "    kesamaan = jarak(anchor_embedding, validation_embedding)\n",
        "    \n",
        "    #dense layer\n",
        "    d2 = Dense(1, activation='sigmoid')(kesamaan)\n",
        "    \n",
        "    return Model(inputs=[anchor_images, validation_images], outputs=[d2])"
      ]
    },
    {
      "cell_type": "code",
      "execution_count": null,
      "id": "755df6fd-0086-4a6d-a159-2abe5bd2a17f",
      "metadata": {
        "tags": [],
        "colab": {
          "base_uri": "https://localhost:8080/"
        },
        "id": "755df6fd-0086-4a6d-a159-2abe5bd2a17f",
        "outputId": "5df09a58-b986-4b23-db33-843c4979a950"
      },
      "outputs": [
        {
          "output_type": "stream",
          "name": "stdout",
          "text": [
            "Model: \"model_2\"\n",
            "__________________________________________________________________________________________________\n",
            " Layer (type)                   Output Shape         Param #     Connected to                     \n",
            "==================================================================================================\n",
            " input_3 (InputLayer)           [(None, 200, 200, 1  0           []                               \n",
            "                                )]                                                                \n",
            "                                                                                                  \n",
            " input_4 (InputLayer)           [(None, 200, 200, 1  0           []                               \n",
            "                                )]                                                                \n",
            "                                                                                                  \n",
            " model_1 (Functional)           (None, 128)          4623556     ['input_3[0][0]',                \n",
            "                                                                  'input_4[0][0]']                \n",
            "                                                                                                  \n",
            " distance (distance)            (None, 128)          0           ['model_1[0][0]',                \n",
            "                                                                  'model_1[1][0]']                \n",
            "                                                                                                  \n",
            " dense_6 (Dense)                (None, 1)            129         ['distance[0][0]']               \n",
            "                                                                                                  \n",
            "==================================================================================================\n",
            "Total params: 4,623,685\n",
            "Trainable params: 4,623,685\n",
            "Non-trainable params: 0\n",
            "__________________________________________________________________________________________________\n"
          ]
        }
      ],
      "source": [
        "siamese = jadi_siamese()\n",
        "siamese.summary()"
      ]
    },
    {
      "cell_type": "code",
      "execution_count": null,
      "id": "718b1b59-c5aa-480d-b007-c551662a21e3",
      "metadata": {
        "tags": [],
        "id": "718b1b59-c5aa-480d-b007-c551662a21e3",
        "outputId": "711fb6df-f5a1-464f-ca71-08f81f09561d",
        "colab": {
          "base_uri": "https://localhost:8080/"
        }
      },
      "outputs": [
        {
          "output_type": "stream",
          "name": "stdout",
          "text": [
            "Epoch 1/80\n",
            "44/44 [==============================] - 160s 3s/step - loss: 0.6927 - accuracy: 0.5958 - val_loss: 0.6924 - val_accuracy: 0.7385\n",
            "Epoch 2/80\n",
            "44/44 [==============================] - 129s 3s/step - loss: 0.6922 - accuracy: 0.7111 - val_loss: 0.6919 - val_accuracy: 0.7385\n",
            "Epoch 3/80\n",
            "44/44 [==============================] - 129s 3s/step - loss: 0.6917 - accuracy: 0.7500 - val_loss: 0.6913 - val_accuracy: 0.7241\n",
            "Epoch 4/80\n",
            "44/44 [==============================] - 129s 3s/step - loss: 0.6910 - accuracy: 0.7522 - val_loss: 0.6906 - val_accuracy: 0.7299\n",
            "Epoch 5/80\n",
            "44/44 [==============================] - 129s 3s/step - loss: 0.6901 - accuracy: 0.7558 - val_loss: 0.6896 - val_accuracy: 0.7299\n",
            "Epoch 6/80\n",
            "44/44 [==============================] - 129s 3s/step - loss: 0.6889 - accuracy: 0.7673 - val_loss: 0.6880 - val_accuracy: 0.7241\n",
            "Epoch 7/80\n",
            "44/44 [==============================] - 129s 3s/step - loss: 0.6870 - accuracy: 0.7068 - val_loss: 0.6856 - val_accuracy: 0.7241\n",
            "Epoch 8/80\n",
            "44/44 [==============================] - 129s 3s/step - loss: 0.6838 - accuracy: 0.7233 - val_loss: 0.6813 - val_accuracy: 0.7184\n",
            "Epoch 9/80\n",
            "44/44 [==============================] - 129s 3s/step - loss: 0.6776 - accuracy: 0.7572 - val_loss: 0.6723 - val_accuracy: 0.6868\n",
            "Epoch 10/80\n",
            "44/44 [==============================] - 129s 3s/step - loss: 0.6639 - accuracy: 0.7133 - val_loss: 0.6516 - val_accuracy: 0.6494\n",
            "Epoch 11/80\n",
            "44/44 [==============================] - 129s 3s/step - loss: 0.6358 - accuracy: 0.6772 - val_loss: 0.6170 - val_accuracy: 0.6408\n",
            "Epoch 12/80\n",
            "44/44 [==============================] - 127s 3s/step - loss: 0.5975 - accuracy: 0.6664 - val_loss: 0.5797 - val_accuracy: 0.6897\n",
            "Epoch 13/80\n",
            "44/44 [==============================] - 127s 3s/step - loss: 0.5612 - accuracy: 0.7017 - val_loss: 0.5543 - val_accuracy: 0.7011\n",
            "Epoch 14/80\n",
            "44/44 [==============================] - 126s 3s/step - loss: 0.5326 - accuracy: 0.7500 - val_loss: 0.5484 - val_accuracy: 0.6810\n",
            "Epoch 15/80\n",
            "44/44 [==============================] - 125s 3s/step - loss: 0.5120 - accuracy: 0.7615 - val_loss: 0.5059 - val_accuracy: 0.7644\n",
            "Epoch 16/80\n",
            "44/44 [==============================] - 124s 3s/step - loss: 0.4967 - accuracy: 0.7774 - val_loss: 0.4981 - val_accuracy: 0.8046\n",
            "Epoch 17/80\n",
            "44/44 [==============================] - 124s 3s/step - loss: 0.4814 - accuracy: 0.8048 - val_loss: 0.4890 - val_accuracy: 0.7787\n",
            "Epoch 18/80\n",
            "44/44 [==============================] - 125s 3s/step - loss: 0.4735 - accuracy: 0.8105 - val_loss: 0.4783 - val_accuracy: 0.8017\n",
            "Epoch 19/80\n",
            "44/44 [==============================] - 125s 3s/step - loss: 0.4661 - accuracy: 0.8141 - val_loss: 0.4975 - val_accuracy: 0.7931\n",
            "Epoch 20/80\n",
            "44/44 [==============================] - 125s 3s/step - loss: 0.4567 - accuracy: 0.8307 - val_loss: 0.4600 - val_accuracy: 0.8103\n",
            "Epoch 21/80\n",
            "44/44 [==============================] - 126s 3s/step - loss: 0.4493 - accuracy: 0.8256 - val_loss: 0.4675 - val_accuracy: 0.8017\n",
            "Epoch 22/80\n",
            "44/44 [==============================] - 125s 3s/step - loss: 0.4474 - accuracy: 0.8249 - val_loss: 0.4756 - val_accuracy: 0.8075\n",
            "Epoch 23/80\n",
            "44/44 [==============================] - 125s 3s/step - loss: 0.4428 - accuracy: 0.8228 - val_loss: 0.4536 - val_accuracy: 0.8075\n",
            "Epoch 24/80\n",
            "44/44 [==============================] - 126s 3s/step - loss: 0.4335 - accuracy: 0.8350 - val_loss: 0.4555 - val_accuracy: 0.8075\n",
            "Epoch 25/80\n",
            "44/44 [==============================] - 127s 3s/step - loss: 0.4304 - accuracy: 0.8293 - val_loss: 0.4268 - val_accuracy: 0.8506\n",
            "Epoch 26/80\n",
            "44/44 [==============================] - 126s 3s/step - loss: 0.4272 - accuracy: 0.8401 - val_loss: 0.4250 - val_accuracy: 0.8132\n",
            "Epoch 27/80\n",
            "44/44 [==============================] - 127s 3s/step - loss: 0.4169 - accuracy: 0.8559 - val_loss: 0.4561 - val_accuracy: 0.8132\n",
            "Epoch 28/80\n",
            "44/44 [==============================] - 128s 3s/step - loss: 0.4121 - accuracy: 0.8573 - val_loss: 0.4216 - val_accuracy: 0.8362\n",
            "Epoch 29/80\n",
            "44/44 [==============================] - 128s 3s/step - loss: 0.3995 - accuracy: 0.8696 - val_loss: 0.4158 - val_accuracy: 0.8506\n",
            "Epoch 30/80\n",
            "44/44 [==============================] - 127s 3s/step - loss: 0.3932 - accuracy: 0.8746 - val_loss: 0.3966 - val_accuracy: 0.8793\n",
            "Epoch 31/80\n",
            "44/44 [==============================] - 127s 3s/step - loss: 0.3855 - accuracy: 0.8775 - val_loss: 0.4200 - val_accuracy: 0.8333\n",
            "Epoch 32/80\n",
            "44/44 [==============================] - 128s 3s/step - loss: 0.3815 - accuracy: 0.8782 - val_loss: 0.3917 - val_accuracy: 0.8707\n",
            "Epoch 33/80\n",
            "44/44 [==============================] - 128s 3s/step - loss: 0.3687 - accuracy: 0.8854 - val_loss: 0.3861 - val_accuracy: 0.8764\n",
            "Epoch 34/80\n",
            "44/44 [==============================] - 129s 3s/step - loss: 0.3655 - accuracy: 0.8927 - val_loss: 0.4419 - val_accuracy: 0.8103\n",
            "Epoch 35/80\n",
            "44/44 [==============================] - 128s 3s/step - loss: 0.3493 - accuracy: 0.8941 - val_loss: 0.4382 - val_accuracy: 0.8247\n",
            "Epoch 36/80\n",
            "44/44 [==============================] - 129s 3s/step - loss: 0.3673 - accuracy: 0.8775 - val_loss: 0.3421 - val_accuracy: 0.9052\n",
            "Epoch 37/80\n",
            "44/44 [==============================] - 129s 3s/step - loss: 0.3332 - accuracy: 0.9186 - val_loss: 0.3427 - val_accuracy: 0.9023\n",
            "Epoch 38/80\n",
            "44/44 [==============================] - 129s 3s/step - loss: 0.3291 - accuracy: 0.9215 - val_loss: 0.3354 - val_accuracy: 0.9167\n",
            "Epoch 39/80\n",
            "44/44 [==============================] - 129s 3s/step - loss: 0.3096 - accuracy: 0.9236 - val_loss: 0.3212 - val_accuracy: 0.9138\n",
            "Epoch 40/80\n",
            "44/44 [==============================] - 129s 3s/step - loss: 0.3163 - accuracy: 0.9157 - val_loss: 0.3187 - val_accuracy: 0.9052\n",
            "Epoch 41/80\n",
            "44/44 [==============================] - 129s 3s/step - loss: 0.3124 - accuracy: 0.9164 - val_loss: 0.3040 - val_accuracy: 0.9253\n",
            "Epoch 42/80\n",
            "44/44 [==============================] - 130s 3s/step - loss: 0.2928 - accuracy: 0.9316 - val_loss: 0.3343 - val_accuracy: 0.8966\n",
            "Epoch 43/80\n",
            "44/44 [==============================] - 130s 3s/step - loss: 0.2938 - accuracy: 0.9265 - val_loss: 0.3697 - val_accuracy: 0.8621\n",
            "Epoch 44/80\n",
            "44/44 [==============================] - 130s 3s/step - loss: 0.2894 - accuracy: 0.9287 - val_loss: 0.2882 - val_accuracy: 0.9368\n",
            "Epoch 45/80\n",
            "44/44 [==============================] - 130s 3s/step - loss: 0.2763 - accuracy: 0.9409 - val_loss: 0.3056 - val_accuracy: 0.9052\n",
            "Epoch 46/80\n",
            "44/44 [==============================] - 129s 3s/step - loss: 0.2990 - accuracy: 0.9179 - val_loss: 0.2850 - val_accuracy: 0.9253\n",
            "Epoch 47/80\n",
            "44/44 [==============================] - 129s 3s/step - loss: 0.2703 - accuracy: 0.9366 - val_loss: 0.3022 - val_accuracy: 0.9052\n",
            "Epoch 48/80\n",
            "44/44 [==============================] - 130s 3s/step - loss: 0.2546 - accuracy: 0.9474 - val_loss: 0.2927 - val_accuracy: 0.9310\n",
            "Epoch 49/80\n",
            "44/44 [==============================] - 130s 3s/step - loss: 0.2610 - accuracy: 0.9373 - val_loss: 0.2776 - val_accuracy: 0.9282\n",
            "Epoch 50/80\n",
            "44/44 [==============================] - 130s 3s/step - loss: 0.2504 - accuracy: 0.9416 - val_loss: 0.2597 - val_accuracy: 0.9397\n",
            "Epoch 51/80\n",
            "44/44 [==============================] - 130s 3s/step - loss: 0.2342 - accuracy: 0.9568 - val_loss: 0.2528 - val_accuracy: 0.9397\n",
            "Epoch 52/80\n",
            "44/44 [==============================] - 130s 3s/step - loss: 0.2541 - accuracy: 0.9395 - val_loss: 0.3002 - val_accuracy: 0.8994\n",
            "Epoch 53/80\n",
            "44/44 [==============================] - 130s 3s/step - loss: 0.2375 - accuracy: 0.9539 - val_loss: 0.3298 - val_accuracy: 0.8822\n",
            "Epoch 54/80\n",
            "44/44 [==============================] - 130s 3s/step - loss: 0.2380 - accuracy: 0.9488 - val_loss: 0.3692 - val_accuracy: 0.8448\n",
            "Epoch 55/80\n",
            "44/44 [==============================] - 130s 3s/step - loss: 0.2327 - accuracy: 0.9496 - val_loss: 0.2354 - val_accuracy: 0.9454\n",
            "Epoch 56/80\n",
            "44/44 [==============================] - 130s 3s/step - loss: 0.2259 - accuracy: 0.9553 - val_loss: 0.2411 - val_accuracy: 0.9368\n",
            "Epoch 57/80\n",
            "44/44 [==============================] - 129s 3s/step - loss: 0.2273 - accuracy: 0.9546 - val_loss: 0.3777 - val_accuracy: 0.8391\n",
            "Epoch 58/80\n",
            "44/44 [==============================] - 131s 3s/step - loss: 0.2120 - accuracy: 0.9633 - val_loss: 0.3025 - val_accuracy: 0.8994\n",
            "Epoch 59/80\n",
            "44/44 [==============================] - 131s 3s/step - loss: 0.2217 - accuracy: 0.9611 - val_loss: 0.2447 - val_accuracy: 0.9339\n",
            "Epoch 60/80\n",
            "44/44 [==============================] - 130s 3s/step - loss: 0.2434 - accuracy: 0.9380 - val_loss: 0.2317 - val_accuracy: 0.9483\n",
            "Epoch 61/80\n",
            "44/44 [==============================] - 131s 3s/step - loss: 0.2027 - accuracy: 0.9669 - val_loss: 0.2438 - val_accuracy: 0.9253\n",
            "Epoch 62/80\n",
            "44/44 [==============================] - 130s 3s/step - loss: 0.2030 - accuracy: 0.9654 - val_loss: 0.2375 - val_accuracy: 0.9339\n",
            "Epoch 63/80\n",
            "44/44 [==============================] - 131s 3s/step - loss: 0.2035 - accuracy: 0.9647 - val_loss: 0.2240 - val_accuracy: 0.9425\n",
            "Epoch 64/80\n",
            "44/44 [==============================] - 130s 3s/step - loss: 0.1954 - accuracy: 0.9647 - val_loss: 0.2449 - val_accuracy: 0.9253\n",
            "Epoch 65/80\n",
            "44/44 [==============================] - 130s 3s/step - loss: 0.1954 - accuracy: 0.9712 - val_loss: 0.2160 - val_accuracy: 0.9655\n",
            "Epoch 66/80\n",
            "44/44 [==============================] - 131s 3s/step - loss: 0.1903 - accuracy: 0.9676 - val_loss: 0.1959 - val_accuracy: 0.9626\n",
            "Epoch 67/80\n",
            "44/44 [==============================] - 131s 3s/step - loss: 0.1918 - accuracy: 0.9625 - val_loss: 0.2534 - val_accuracy: 0.9167\n",
            "Epoch 68/80\n",
            "44/44 [==============================] - 131s 3s/step - loss: 0.1920 - accuracy: 0.9633 - val_loss: 0.2565 - val_accuracy: 0.9368\n",
            "Epoch 69/80\n",
            "44/44 [==============================] - 131s 3s/step - loss: 0.1771 - accuracy: 0.9697 - val_loss: 0.1981 - val_accuracy: 0.9684\n",
            "Epoch 70/80\n",
            "44/44 [==============================] - 131s 3s/step - loss: 0.1736 - accuracy: 0.9762 - val_loss: 0.1851 - val_accuracy: 0.9598\n",
            "Epoch 71/80\n",
            "44/44 [==============================] - 131s 3s/step - loss: 0.1812 - accuracy: 0.9654 - val_loss: 0.2142 - val_accuracy: 0.9368\n",
            "Epoch 72/80\n",
            "44/44 [==============================] - 131s 3s/step - loss: 0.1696 - accuracy: 0.9748 - val_loss: 0.2115 - val_accuracy: 0.9483\n",
            "Epoch 73/80\n",
            "44/44 [==============================] - 131s 3s/step - loss: 0.1653 - accuracy: 0.9733 - val_loss: 0.1807 - val_accuracy: 0.9598\n",
            "Epoch 74/80\n",
            "44/44 [==============================] - 131s 3s/step - loss: 0.1619 - accuracy: 0.9777 - val_loss: 0.2630 - val_accuracy: 0.9138\n",
            "Epoch 75/80\n",
            "44/44 [==============================] - 131s 3s/step - loss: 0.1621 - accuracy: 0.9762 - val_loss: 0.1821 - val_accuracy: 0.9569\n",
            "Epoch 76/80\n",
            "44/44 [==============================] - 131s 3s/step - loss: 0.1550 - accuracy: 0.9827 - val_loss: 0.1791 - val_accuracy: 0.9569\n",
            "Epoch 77/80\n",
            "44/44 [==============================] - 131s 3s/step - loss: 0.1692 - accuracy: 0.9683 - val_loss: 0.1871 - val_accuracy: 0.9540\n",
            "Epoch 78/80\n",
            "44/44 [==============================] - 131s 3s/step - loss: 0.1563 - accuracy: 0.9798 - val_loss: 0.2986 - val_accuracy: 0.8937\n",
            "Epoch 79/80\n",
            "44/44 [==============================] - 131s 3s/step - loss: 0.1570 - accuracy: 0.9769 - val_loss: 0.1896 - val_accuracy: 0.9454\n",
            "Epoch 80/80\n",
            "44/44 [==============================] - 131s 3s/step - loss: 0.1579 - accuracy: 0.9755 - val_loss: 0.2303 - val_accuracy: 0.9224\n"
          ]
        }
      ],
      "source": [
        "siamese.compile(loss='binary_crossentropy', optimizer='SGD', metrics=['accuracy'])\n",
        "\n",
        "history = siamese.fit([images_dataset[:,0,:], images_dataset[:,1,:]], labels_dataset, epochs=80, validation_split=0.2, batch_size=32, verbose=1)"
      ]
    },
    {
      "cell_type": "code",
      "source": [
        "tes1 = cv2.imread('tes1.jpg', 0)\n",
        "tes2 = cv2.imread('tes2.jpg', 0)\n",
        "tes1 = cv2.resize(tes1, (200,200), interpolation=cv2.INTER_AREA)/255.\n",
        "tes2 = cv2.resize(tes2, (200,200), interpolation=cv2.INTER_AREA)/255.\n",
        "\n",
        "tes = (tes1, tes2)\n",
        "tes = np.array([tes])\n",
        "tes = np.expand_dims(tes, axis=-1)\n",
        "tes.shape"
      ],
      "metadata": {
        "colab": {
          "base_uri": "https://localhost:8080/"
        },
        "id": "qE0Tr54IcAwz",
        "outputId": "426fea83-0387-4606-b90c-f657b73b5131"
      },
      "id": "qE0Tr54IcAwz",
      "execution_count": null,
      "outputs": [
        {
          "output_type": "execute_result",
          "data": {
            "text/plain": [
              "(1, 2, 200, 200, 1)"
            ]
          },
          "metadata": {},
          "execution_count": 22
        }
      ]
    },
    {
      "cell_type": "code",
      "source": [
        "siamese.predict([tes[:,0,:], tes[:,1,:]])"
      ],
      "metadata": {
        "colab": {
          "base_uri": "https://localhost:8080/"
        },
        "id": "s6rPYcO2dxB5",
        "outputId": "b0e0f638-d6cd-4bcc-858a-067eaa7a9dd6"
      },
      "id": "s6rPYcO2dxB5",
      "execution_count": null,
      "outputs": [
        {
          "output_type": "stream",
          "name": "stdout",
          "text": [
            "1/1 [==============================] - 0s 144ms/step\n"
          ]
        },
        {
          "output_type": "execute_result",
          "data": {
            "text/plain": [
              "array([[0.8596978]], dtype=float32)"
            ]
          },
          "metadata": {},
          "execution_count": 23
        }
      ]
    },
    {
      "cell_type": "code",
      "source": [
        "siamese.save('content/siamesemodel.h5')"
      ],
      "metadata": {
        "id": "xqmClHxzf7rD"
      },
      "id": "xqmClHxzf7rD",
      "execution_count": null,
      "outputs": []
    },
    {
      "cell_type": "code",
      "execution_count": null,
      "id": "953d4ac8-0c55-431b-b8c7-7404c457b4ab",
      "metadata": {
        "id": "953d4ac8-0c55-431b-b8c7-7404c457b4ab"
      },
      "outputs": [],
      "source": [
        "files = os.listdir('person')\n",
        "\n",
        "for file in files:\n",
        "  os.remove(os.path.join('person', file))\n",
        "\n",
        "os.rmdir('person')"
      ]
    },
    {
      "cell_type": "code",
      "source": [],
      "metadata": {
        "id": "1jbJgFETNuRf"
      },
      "id": "1jbJgFETNuRf",
      "execution_count": null,
      "outputs": []
    }
  ],
  "metadata": {
    "kernelspec": {
      "display_name": "Python 3 (ipykernel)",
      "language": "python",
      "name": "python3"
    },
    "language_info": {
      "codemirror_mode": {
        "name": "ipython",
        "version": 3
      },
      "file_extension": ".py",
      "mimetype": "text/x-python",
      "name": "python",
      "nbconvert_exporter": "python",
      "pygments_lexer": "ipython3",
      "version": "3.11.0"
    },
    "colab": {
      "provenance": [],
      "gpuType": "T4"
    },
    "accelerator": "GPU",
    "gpuClass": "standard"
  },
  "nbformat": 4,
  "nbformat_minor": 5
}